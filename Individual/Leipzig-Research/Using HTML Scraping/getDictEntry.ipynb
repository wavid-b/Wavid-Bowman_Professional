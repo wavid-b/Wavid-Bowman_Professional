{
 "cells": [
  {
   "cell_type": "code",
   "execution_count": null,
   "metadata": {},
   "outputs": [],
   "source": [
    "#WORKED - NOW JUST NEED TO CLEAN UP FILES \n",
    "import requests\n",
    "\n",
    "baseURL = \"http://www.latin-dictionary.net/list/letter/\"\n",
    "alphabet = \"abcdefghijklmnopqrstuvwxyz\"\n",
    "fullURL = \"\"\n",
    "#for each letter in the alphabet, scrape that page \n",
    "for letter in alphabet:\n",
    "    fullURL = baseURL + letter\n",
    "    fileStr = \"HTML-with-entries/\" + letter + \".txt\"\n",
    "    file = open(fileStr, \"w\")\n",
    "    page = requests.get(fullURL)\n",
    "    outputText = \"\"\n",
    "    \n",
    "    #get the lines from page \n",
    "    lines = page.text.splitlines(True)\n",
    "\n",
    "    #iterate over lines. If lines in page \n",
    "    for line in lines:\n",
    "        if(\"class=\\\"word\\\"\" in line):\n",
    "            outputText += line\n",
    "\n",
    "\n",
    "    \n",
    "    file.write(outputText)\n",
    "#JOB DONE!\n"
   ]
  },
  {
   "cell_type": "code",
   "execution_count": 10,
   "metadata": {},
   "outputs": [],
   "source": [
    "#now make the single dictionary entries file\n",
    "alphabet = \"abcdefghijklmnopqrstuvwxyz\"\n",
    "ostringList = []\n",
    "ifileBase = \"HTML-with-entries/\"\n",
    "#make sure to add to the ostring, then each ostring gets added to the list \n",
    "for letter in alphabet:\n",
    "    ostring = \"\"\n",
    "    ifile = ifileBase + letter + \".txt\"\n",
    "    file = open(ifile, \"r\")\n",
    "    for line in file:\n",
    "        #now cleanup the line's HTML to a readable dictionary entry\n",
    "        out = \"\"\n",
    "        nest = 0\n",
    "        for char in line:\n",
    "            if char == \"<\": nest +=1\n",
    "            if char == \">\": nest -=1\n",
    "            if nest == 0 and char!=\">\": out += char\n",
    "        ostring += out.strip() + \"\\n\"\n",
    "    ostringList.append(ostring)\n",
    "    #had to manual add sum - might be other words as well\n",
    "#last step: write all of the ostrings to a single \"dictionary entries\" file\n",
    "with open(\"dictEntries.txt\", \"w\") as ofile:\n",
    "    out = \" \".join(ostringList)\n",
    "    ofile.write(out)"
   ]
  },
  {
   "cell_type": "code",
   "execution_count": 37,
   "metadata": {},
   "outputs": [
    {
     "name": "stdout",
     "output_type": "stream",
     "text": [
      "             FPP                    Entry\n",
      "0              a                 a interj\n",
      "1              a                   a prep\n",
      "2              a                   a prep\n",
      "3             A.               A., abb. n\n",
      "4             a.               a., abb. n\n",
      "...          ...                      ...\n",
      "36882   zoologus      zoologus, zoologi n\n",
      "36883  zoophorus    zoophorus, zoophori n\n",
      "36884    zotheca      zotheca, zothecae n\n",
      "36885  zothecula  zothecula, zotheculae n\n",
      "36886     zythum          zythum, zythi n\n",
      "\n",
      "[36887 rows x 2 columns]\n"
     ]
    }
   ],
   "source": [
    "#now make csv \n",
    "import pandas as pd\n",
    "FPP = []\n",
    "Entry = []\n",
    "with open(\"dictEntries.txt\", \"r\") as dict:\n",
    "    #make a list of first principal parts and entries\n",
    "    for line in dict:\n",
    "        Entry.append(line.strip())\n",
    "        useComma = False\n",
    "        if(line.find(\",\") != -1 and line.find(\",\") < line.find(' ')): useComma = True\n",
    "        \n",
    "        if useComma:\n",
    "            fpp = line.split(',')[0]\n",
    "        else:\n",
    "            fpp = line.split(' ')[0]\n",
    "        #add new stuff to the lists\n",
    "        FPP.append(fpp)\n",
    "\n",
    "#now make it into a dataframe - saved as a csv delimited by \"|\"   \n",
    "data = {\"FPP\": FPP, \"Entry\": Entry}\n",
    "df = pd.DataFrame(data=data)\n",
    "print(df)\n",
    "df.to_csv(\"dictCSV.csv\", \"|\")"
   ]
  },
  {
   "cell_type": "code",
   "execution_count": 4,
   "metadata": {},
   "outputs": [
    {
     "name": "stdout",
     "output_type": "stream",
     "text": [
      "['mater, matris n']\n"
     ]
    }
   ],
   "source": [
    "#load the dataframe in from CSV and search it \n",
    "import pandas as pd \n",
    "\n",
    "#outputs a list of words of dictionary entries - if entry it doesn't exist\n",
    "def getEntry(word):\n",
    "    df = pd.read_csv(\"dictCSV.csv\", sep = \"|\")\n",
    "    #remove duplicate col - from the way it was saved\n",
    "    del df[df.columns[0]]\n",
    "    lookingFor = df[df.FPP == word]\n",
    "    out = lookingFor.Entry.tolist()\n",
    "    return out\n",
    "print(getEntry(\"mater\"))\n",
    "\n"
   ]
  },
  {
   "attachments": {},
   "cell_type": "markdown",
   "metadata": {},
   "source": [
    "Need to cite:\n",
    "latin-dictionary.com"
   ]
  }
 ],
 "metadata": {
  "kernelspec": {
   "display_name": "Python 3",
   "language": "python",
   "name": "python3"
  },
  "language_info": {
   "codemirror_mode": {
    "name": "ipython",
    "version": 3
   },
   "file_extension": ".py",
   "mimetype": "text/x-python",
   "name": "python",
   "nbconvert_exporter": "python",
   "pygments_lexer": "ipython3",
   "version": "3.10.8"
  },
  "orig_nbformat": 4
 },
 "nbformat": 4,
 "nbformat_minor": 2
}
